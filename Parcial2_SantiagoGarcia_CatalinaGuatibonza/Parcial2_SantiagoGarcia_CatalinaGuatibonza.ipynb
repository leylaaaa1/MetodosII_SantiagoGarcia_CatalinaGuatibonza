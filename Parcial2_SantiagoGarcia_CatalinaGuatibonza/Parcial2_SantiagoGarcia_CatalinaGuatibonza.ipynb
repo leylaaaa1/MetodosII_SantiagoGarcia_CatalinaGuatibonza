{
 "cells": [
  {
   "cell_type": "markdown",
   "id": "341bd3f2",
   "metadata": {},
   "source": [
    "### Santiago García - Catalina Guatibonza"
   ]
  },
  {
   "cell_type": "markdown",
   "id": "0e48eb50",
   "metadata": {},
   "source": [
    "# PARCIAL 2 | MÉTODOS COMPUTACIONALES II"
   ]
  },
  {
   "cell_type": "markdown",
   "id": "8bf3baa7",
   "metadata": {},
   "source": [
    "## Algoritmo Multipaso"
   ]
  },
  {
   "cell_type": "code",
   "execution_count": null,
   "id": "6b6873d9",
   "metadata": {},
   "outputs": [],
   "source": []
  },
  {
   "cell_type": "code",
   "execution_count": null,
   "id": "d1ddf67c",
   "metadata": {},
   "outputs": [],
   "source": []
  },
  {
   "cell_type": "code",
   "execution_count": null,
   "id": "b547f6e6",
   "metadata": {},
   "outputs": [],
   "source": []
  },
  {
   "cell_type": "code",
   "execution_count": null,
   "id": "11d92b6d",
   "metadata": {},
   "outputs": [],
   "source": []
  },
  {
   "cell_type": "code",
   "execution_count": null,
   "id": "bc887e9c",
   "metadata": {},
   "outputs": [],
   "source": []
  },
  {
   "cell_type": "code",
   "execution_count": null,
   "id": "f87f7a02",
   "metadata": {},
   "outputs": [],
   "source": []
  },
  {
   "cell_type": "markdown",
   "id": "896aa0a5",
   "metadata": {},
   "source": [
    "## Particle Decay (Adaptativo) "
   ]
  },
  {
   "cell_type": "code",
   "execution_count": null,
   "id": "706368b6",
   "metadata": {},
   "outputs": [],
   "source": []
  },
  {
   "cell_type": "code",
   "execution_count": null,
   "id": "cd976c8e",
   "metadata": {},
   "outputs": [],
   "source": []
  },
  {
   "cell_type": "code",
   "execution_count": null,
   "id": "c3e844ab",
   "metadata": {},
   "outputs": [],
   "source": []
  },
  {
   "cell_type": "code",
   "execution_count": null,
   "id": "699a56ae",
   "metadata": {},
   "outputs": [],
   "source": []
  },
  {
   "cell_type": "code",
   "execution_count": null,
   "id": "3e7113a6",
   "metadata": {},
   "outputs": [],
   "source": []
  },
  {
   "cell_type": "code",
   "execution_count": null,
   "id": "a63532f7",
   "metadata": {},
   "outputs": [],
   "source": []
  }
 ],
 "metadata": {
  "kernelspec": {
   "display_name": "Python 3 (ipykernel)",
   "language": "python",
   "name": "python3"
  },
  "language_info": {
   "codemirror_mode": {
    "name": "ipython",
    "version": 3
   },
   "file_extension": ".py",
   "mimetype": "text/x-python",
   "name": "python",
   "nbconvert_exporter": "python",
   "pygments_lexer": "ipython3",
   "version": "3.11.5"
  }
 },
 "nbformat": 4,
 "nbformat_minor": 5
}
