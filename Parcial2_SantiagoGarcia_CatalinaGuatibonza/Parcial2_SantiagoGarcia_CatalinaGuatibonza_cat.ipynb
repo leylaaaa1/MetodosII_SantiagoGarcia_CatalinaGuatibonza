{
 "cells": [
  {
   "cell_type": "markdown",
   "metadata": {},
   "source": [
    "### Santiago García - Catalina Guatibonza"
   ]
  },
  {
   "cell_type": "markdown",
   "metadata": {},
   "source": [
    "# PARCIAL 2 | MÉTODOS COMPUTACIONALES II"
   ]
  },
  {
   "cell_type": "markdown",
   "metadata": {},
   "source": [
    "## Algoritmo Multipaso"
   ]
  },
  {
   "cell_type": "code",
   "execution_count": null,
   "metadata": {},
   "outputs": [],
   "source": []
  },
  {
   "cell_type": "code",
   "execution_count": null,
   "metadata": {},
   "outputs": [],
   "source": []
  },
  {
   "cell_type": "code",
   "execution_count": null,
   "metadata": {},
   "outputs": [],
   "source": []
  },
  {
   "cell_type": "code",
   "execution_count": null,
   "metadata": {},
   "outputs": [],
   "source": []
  },
  {
   "cell_type": "code",
   "execution_count": null,
   "metadata": {},
   "outputs": [],
   "source": []
  },
  {
   "cell_type": "code",
   "execution_count": null,
   "metadata": {},
   "outputs": [],
   "source": []
  },
  {
   "cell_type": "markdown",
   "metadata": {},
   "source": [
    "## Particle Decay (Adaptativo) "
   ]
  },
  {
   "cell_type": "code",
   "execution_count": null,
   "metadata": {},
   "outputs": [],
   "source": [
    "#Integre (con odeint) el sistema de ecuaciones diferenciales con la condici´on inicial\n",
    "#Ni(0) = [500, 0, 0] con i = A, B, C entre 0 y 10 horas con 50 pasos temporales."
   ]
  },
  {
   "cell_type": "code",
   "execution_count": 9,
   "metadata": {},
   "outputs": [],
   "source": [
    "import numpy as np\n",
    "from scipy.integrate import odeint\n",
    "\n",
    "\n",
    "def System(N, t):\n",
    "    NA,NB,NC = N\n",
    "\n",
    "    lambA = 0.5/h\n",
    "    lambB =0.3/h\n",
    "\n",
    "    dNAdt= -lambA*NA\n",
    "    dNBdt= lambA*NA - lambB*NB\n",
    "    dNCdt= lambB*NB\n",
    "    return [dNAdt, dNBdt, dNCdt]\n",
    "\n",
    "h = t[1] - t[0]\n",
    "t = np.linspace(0,10,50)\n",
    "r0 = np.array([500,0,0]) #condiciones inciciales\n",
    "sol = odeint(System, r0, t)\n",
    "\n",
    "NA = sol[:, 0]\n",
    "NB = sol[:, 1]\n",
    "NC = sol[:, 2]\n"
   ]
  },
  {
   "cell_type": "code",
   "execution_count": null,
   "metadata": {},
   "outputs": [],
   "source": []
  },
  {
   "cell_type": "code",
   "execution_count": 10,
   "metadata": {},
   "outputs": [
    {
     "data": {
      "text/plain": [
       "229.29937499149233"
      ]
     },
     "execution_count": 10,
     "metadata": {},
     "output_type": "execute_result"
    }
   ],
   "source": [
    "np.max(NB)"
   ]
  },
  {
   "cell_type": "code",
   "execution_count": 11,
   "metadata": {},
   "outputs": [
    {
     "data": {
      "text/plain": [
       "159.13554513851162"
      ]
     },
     "execution_count": 11,
     "metadata": {},
     "output_type": "execute_result"
    }
   ],
   "source": [
    "NBmax = np.argmax(NB)\n",
    "tmax = t[NBmax]\n",
    "NCenNBmax = NC[NBmax]\n",
    "\n",
    "NCenNBmax"
   ]
  },
  {
   "cell_type": "code",
   "execution_count": 12,
   "metadata": {},
   "outputs": [
    {
     "data": {
      "text/plain": [
       "<matplotlib.collections.PathCollection at 0x7faf6f562dc0>"
      ]
     },
     "execution_count": 12,
     "metadata": {},
     "output_type": "execute_result"
    },
    {
     "data": {
      "image/png": "[encoded data removed]",
      "text/plain": [
       "<Figure size 432x288 with 1 Axes>"
      ]
     },
     "metadata": {
      "needs_background": "light"
     },
     "output_type": "display_data"
    }
   ],
   "source": [
    "import numpy as np\n",
    "import matplotlib.pyplot as plt\n",
    "from scipy.integrate import odeint\n",
    "\n",
    "#codigo del profe para rk4 vectorizado\n",
    "\n",
    "def System(N, t):\n",
    "    NA,NB,NC = N\n",
    "\n",
    "    lambA = 0.5/h\n",
    "    lambB =0.3/h\n",
    "\n",
    "    dNAdt= -lambA*NA\n",
    "    dNBdt= lambA*NA - lambB*NB\n",
    "    dNCdt= lambB*NB\n",
    "    return [dNAdt, dNBdt, dNCdt]\n",
    "\n",
    "\n",
    "t = np.linspace(0,10,50)\n",
    "r0 = np.array([500,0,0]) #condiciones inciciales\n",
    "sol = odeint(System, r0, t)\n",
    "\n",
    "\n",
    "# ayuda de chat gpt\n",
    "def Increment(f, r, t, h):\n",
    "    state1 = r\n",
    "    K1 = np.array(f(state1, t)) \n",
    "\n",
    "    state2 = r + 0.5 * h * K1\n",
    "    K2 = np.array(f(state2, t + 0.5 * h)) \n",
    "    state3 = r + 0.5 * h * K2\n",
    "    K3 = np.array(f(state3, t + 0.5 * h))  \n",
    "\n",
    "    state4 = r + h * K3\n",
    "    K4 = np.array(f(state4, t + h))\n",
    "\n",
    "    Deltaf = h * (K1 + 2 * K2 + 2 * K3 + K4) / 6\n",
    "\n",
    "    return  r + Deltaf\n",
    "###\n",
    "\n",
    "\n",
    "def CheckStep(Delta1,Delta2,Delta3,h,minimo=1e-2,maximo=1e-1):\n",
    "    \n",
    "    tolerancia = 0.001\n",
    "    \n",
    "    Delta1 = np.abs(Delta1)\n",
    "    Delta2 = np.abs(Delta2)\n",
    "    Delta3 = np.abs(Delta3)\n",
    "    \n",
    "    if Delta1 < tolerancia:\n",
    "        h = minimo\n",
    "        dx = Delta1\n",
    "        \n",
    "    else:\n",
    "        \n",
    "        if np.abs((Delta1 - Delta2))/Delta1 > maximo:\n",
    "            h = 0.5*h\n",
    "            dx = Delta2\n",
    "        \n",
    "        elif np.abs((Delta1-Delta3))/Delta1 < minimo:\n",
    "            h = 2*h\n",
    "            dx = Delta3\n",
    "        \n",
    "        else:\n",
    "            dx = Delta1\n",
    "            \n",
    "    return dx,h\n",
    "\n",
    "\n",
    "def Adaptativo(f,x0,t):\n",
    "    \n",
    "    h = t[1] - t[0]\n",
    "    \n",
    "    tf = t[-1]\n",
    "    t = t[0]\n",
    "    \n",
    "    r = r0\n",
    "    \n",
    "    Time = np.array([t])\n",
    "    Vector = r\n",
    "    \n",
    "    Steps = np.array([h])\n",
    "    \n",
    "    while t < tf:\n",
    "        \n",
    "        Delta1 = Increment(f,r,t,h)\n",
    "        Delta2 = Increment(f,r,t,0.5*h)\n",
    "        Delta3 = Increment(f,r,t,2*h)\n",
    "    \n",
    "        Deltas = Delta1.copy()\n",
    "        ht = Delta1.copy()\n",
    "        \n",
    "        for i in range(Delta1.shape[0]):\n",
    "            Deltas[i],ht[i] = CheckStep(Delta1[i],Delta2[i],Delta3[i],h)\n",
    "    \n",
    "    \n",
    "        h = np.mean(ht)\n",
    "        t += h\n",
    "        \n",
    "        r = Increment(f,r,t,h)\n",
    "        \n",
    "        \n",
    "        Steps = np.append(Steps,h )\n",
    "        Time = np.append(Time,t)\n",
    "        Vector = np.vstack((Vector,r))\n",
    "        \n",
    "    return Time,Vector,Steps\n",
    "\n",
    "\n",
    "t1,x1,h1 = Adaptativo(System,r0,t)\n",
    "\n",
    "plt.scatter(x1[:,0],x1[:,1],marker='.')"
   ]
  },
  {
   "cell_type": "code",
   "execution_count": 13,
   "metadata": {},
   "outputs": [
    {
     "data": {
      "text/plain": [
       "229.29937499149233"
      ]
     },
     "execution_count": 13,
     "metadata": {},
     "output_type": "execute_result"
    }
   ],
   "source": [
    "np.max(NB)"
   ]
  },
  {
   "cell_type": "code",
   "execution_count": 14,
   "metadata": {},
   "outputs": [
    {
     "data": {
      "text/plain": [
       "159.13554513851162"
      ]
     },
     "execution_count": 14,
     "metadata": {},
     "output_type": "execute_result"
    }
   ],
   "source": [
    "NBmax = np.argmax(NB)\n",
    "tmax = t[NBmax]\n",
    "NCenNBmax = NC[NBmax]\n",
    "\n",
    "NCenNBmax"
   ]
  },
  {
   "cell_type": "code",
   "execution_count": 15,
   "metadata": {},
   "outputs": [],
   "source": [
    "#codigo del profe notas de clase\n",
    "\n",
    "def System(N, t):\n",
    "    NA,NB,NC = N\n",
    "\n",
    "    lambA = 0.5/h\n",
    "    lambB =0.3/h\n",
    "\n",
    "    dNAdt= -lambA*NA\n",
    "    dNBdt= lambA*NA - lambB*NB\n",
    "    dNCdt= lambB*NB\n",
    "    return [dNAdt, dNBdt, dNCdt]\n",
    "\n",
    "\n",
    "t = np.linspace(0,10,50)\n",
    "r0 = np.array([500,0,0]) #condiciones inciciales\n",
    "\n",
    "def Increment(f,r,t,h):\n",
    "    \n",
    "    state1 = np.array([r[0],r[1]])\n",
    "    K1 = f(state1,t)\n",
    "    \n",
    "    state2 = np.array([r[0]+0.5*h*K1[0],r[1]+0.5*h*K1[1]])\n",
    "    K2 = f(state2,t+0.5*h)\n",
    "    \n",
    "    state3 = np.array([r[0]+0.5*h*K2[0],r[1]+0.5*h*K2[1]])\n",
    "    K3 = f(state3,t+0.5*h)\n",
    "    \n",
    "    state4 = np.array([r[0]+h*K3[0],r[1]+h*K3[1]])\n",
    "    K4 = f(state4, t+h)\n",
    "    \n",
    "    Deltaf = h*(K1+2*K2+2*K3+K4)/6\n",
    "    \n",
    "    return r+Deltaf\n",
    "\n",
    "\n",
    "def Adaptativo (f,x0,t,e=1e-4):\n",
    "        \n",
    "    h = t[1] - t[0]\n",
    "    tf = t[-1]\n",
    "    t = t[0]\n",
    "    \n",
    "    r = x0\n",
    "\n",
    "    TimeVector = np.array([t])\n",
    "    Vectors = np.array([r])\n",
    "    \n",
    "#Calcule $h$, $t_{0}$, $t_{f}$.\n",
    "#Defina los vectores de tiempo y de soluci´on del sistema.\n",
    "\n",
    "    while t < tf:\n",
    "\n",
    "    # Avance h desde el punto actual\n",
    "\n",
    "        r1 = Increment(f,r,t,h)\n",
    "\n",
    "        # Avance h desde el siguiente punto\n",
    "\n",
    "        r2 = Increment(f,r1,t+h,h)\n",
    "\n",
    "\n",
    "        # Avance 2h desde el punto actual\n",
    "\n",
    "        rt = Increment(f,r,t,2*h)\n",
    "\n",
    "        # El error es comparar los avances\n",
    "        #->h->h y ->2h en sus componentes\n",
    "\n",
    "        error = np.linalg.norm( r2 - rt )\n",
    "\n",
    "        # Si el error es menor que la tolerancia (e) -> avanzo 2h\n",
    "        if error < e:\n",
    "            t += 2*h\n",
    "            r = r*t\n",
    "            # Si el error es muy grande, cambie el paso\n",
    "            # Seg´un Fehlberg\n",
    "            q = 0.85 * (e/error)**(1/4)\n",
    "            h = h*q\n",
    "            TimeVector = np.append(TimeVector, t)\n",
    "\n",
    "            Vectors = np.vstack((Vector, r))\n",
    "            \n",
    "\n",
    "    return (TimeVector, Vectors)\n",
    " #-> Na,Nb,Nc\n",
    "    \n",
    "\n",
    "\n"
   ]
  },
  {
   "cell_type": "code",
   "execution_count": 16,
   "metadata": {},
   "outputs": [
    {
     "data": {
      "text/plain": [
       "229.29937499149233"
      ]
     },
     "execution_count": 16,
     "metadata": {},
     "output_type": "execute_result"
    }
   ],
   "source": [
    "np.max(NB)"
   ]
  },
  {
   "cell_type": "code",
   "execution_count": 17,
   "metadata": {},
   "outputs": [
    {
     "data": {
      "text/plain": [
       "499.9994838589448"
      ]
     },
     "execution_count": 17,
     "metadata": {},
     "output_type": "execute_result"
    }
   ],
   "source": [
    "np.max(NC)"
   ]
  },
  {
   "cell_type": "code",
   "execution_count": null,
   "metadata": {},
   "outputs": [],
   "source": []
  },
  {
   "cell_type": "code",
   "execution_count": null,
   "metadata": {},
   "outputs": [],
   "source": []
  }
 ],
 "metadata": {
  "kernelspec": {
   "display_name": "Python 3",
   "language": "python",
   "name": "python3"
  },
  "language_info": {
   "codemirror_mode": {
    "name": "ipython",
    "version": 3
   },
   "file_extension": ".py",
   "mimetype": "text/x-python",
   "name": "python",
   "nbconvert_exporter": "python",
   "pygments_lexer": "ipython3",
   "version": "3.8.5"
  }
 },
 "nbformat": 4,
 "nbformat_minor": 5
}
