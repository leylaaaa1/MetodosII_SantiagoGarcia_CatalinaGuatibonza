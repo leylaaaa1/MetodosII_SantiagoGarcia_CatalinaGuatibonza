{
 "cells": [
  {
   "cell_type": "markdown",
   "id": "6ec05be5",
   "metadata": {},
   "source": [
    "# TAREA 5 | PUNTO 1 | ECUACIÓN DIFERENCIAL DE POISSON:"
   ]
  },
  {
   "cell_type": "code",
   "execution_count": 1,
   "id": "6e3fc7b2",
   "metadata": {},
   "outputs": [
    {
     "ename": "KeyboardInterrupt",
     "evalue": "",
     "output_type": "error",
     "traceback": [
      "\u001b[1;31m---------------------------------------------------------------------------\u001b[0m",
      "\u001b[1;31mKeyboardInterrupt\u001b[0m                         Traceback (most recent call last)",
      "Cell \u001b[1;32mIn[1], line 36\u001b[0m\n\u001b[0;32m     34\u001b[0m     \u001b[38;5;28;01mfor\u001b[39;00m i \u001b[38;5;129;01min\u001b[39;00m \u001b[38;5;28mrange\u001b[39m(\u001b[38;5;241m1\u001b[39m, N\u001b[38;5;241m-\u001b[39m\u001b[38;5;241m1\u001b[39m):\n\u001b[0;32m     35\u001b[0m         \u001b[38;5;28;01mfor\u001b[39;00m j \u001b[38;5;129;01min\u001b[39;00m \u001b[38;5;28mrange\u001b[39m(\u001b[38;5;241m1\u001b[39m, N\u001b[38;5;241m-\u001b[39m\u001b[38;5;241m1\u001b[39m):\n\u001b[1;32m---> 36\u001b[0m             U[i, j] \u001b[38;5;241m=\u001b[39m \u001b[38;5;241m0.25\u001b[39m \u001b[38;5;241m*\u001b[39m (U_old[i\u001b[38;5;241m+\u001b[39m\u001b[38;5;241m1\u001b[39m, j] \u001b[38;5;241m+\u001b[39m U_old[i\u001b[38;5;241m-\u001b[39m\u001b[38;5;241m1\u001b[39m, j] \u001b[38;5;241m+\u001b[39m U_old[i, j\u001b[38;5;241m+\u001b[39m\u001b[38;5;241m1\u001b[39m] \u001b[38;5;241m+\u001b[39m U_old[i, j\u001b[38;5;241m-\u001b[39m\u001b[38;5;241m1\u001b[39m] \u001b[38;5;241m-\u001b[39m coef \u001b[38;5;241m*\u001b[39m f(x[i], y[j]))\n\u001b[0;32m     38\u001b[0m \u001b[38;5;66;03m# Visualizar la solución\u001b[39;00m\n\u001b[0;32m     39\u001b[0m plt\u001b[38;5;241m.\u001b[39mfigure(figsize\u001b[38;5;241m=\u001b[39m(\u001b[38;5;241m10\u001b[39m, \u001b[38;5;241m8\u001b[39m))\n",
      "Cell \u001b[1;32mIn[1], line 25\u001b[0m, in \u001b[0;36mf\u001b[1;34m(x, y)\u001b[0m\n\u001b[0;32m     24\u001b[0m \u001b[38;5;28;01mdef\u001b[39;00m \u001b[38;5;21mf\u001b[39m(x, y):\n\u001b[1;32m---> 25\u001b[0m     \u001b[38;5;28;01mreturn\u001b[39;00m np\u001b[38;5;241m.\u001b[39mexp(\u001b[38;5;241m-\u001b[39mx \u001b[38;5;241m*\u001b[39m y)\n",
      "\u001b[1;31mKeyboardInterrupt\u001b[0m: "
     ]
    }
   ],
   "source": [
    "import numpy as np\n",
    "import matplotlib.pyplot as plt\n",
    "\n",
    "# Parámetros\n",
    "L = 20  # longitud del dominio en cm\n",
    "h = 0.1  # paso espacial en cm\n",
    "N = int(L / h) + 1  # número de puntos en cada dimensión\n",
    "\n",
    "# Crear una malla\n",
    "x = np.linspace(0, L, N)\n",
    "y = np.linspace(0, L, N)\n",
    "X, Y = np.meshgrid(x, y)\n",
    "\n",
    "# Inicializar la solución con condiciones de frontera\n",
    "U = np.zeros((N, N))\n",
    "\n",
    "# Condiciones de frontera\n",
    "U[0, :] = 10  # h1 en x=0\n",
    "U[-1, :] = 0  # h2 en x=20\n",
    "U[:, 0] = 0  # h3 en y=0\n",
    "U[:, -1] = 0  # h4 en y=20\n",
    "\n",
    "# Función para el lado derecho de la ecuación de Poisson\n",
    "def f(x, y):\n",
    "    return np.exp(-x * y)\n",
    "\n",
    "# Coeficiente debido al término de discretización\n",
    "coef = h**2\n",
    "\n",
    "# Método iterativo (Jacobi, Gauss-Seidel, SOR, etc.)\n",
    "# Aquí se usa el método de Jacobi como ejemplo\n",
    "for _ in range(1000):  # número de iteraciones; ajustar según sea necesario\n",
    "    U_old = U.copy()\n",
    "    for i in range(1, N-1):\n",
    "        for j in range(1, N-1):\n",
    "            U[i, j] = 0.25 * (U_old[i+1, j] + U_old[i-1, j] + U_old[i, j+1] + U_old[i, j-1] - coef * f(x[i], y[j]))\n",
    "\n",
    "# Visualizar la solución\n",
    "plt.figure(figsize=(10, 8))\n",
    "plt.contourf(X, Y, U, 50, cmap='viridis')\n",
    "plt.colorbar(label='Potencial (V)')\n",
    "plt.xlabel('X (cm)')\n",
    "plt.ylabel('Y (cm)')\n",
    "plt.title('Solución de la ecuación de Poisson')\n",
    "plt.show()"
   ]
  },
  {
   "cell_type": "code",
   "execution_count": null,
   "id": "d9f167ad",
   "metadata": {},
   "outputs": [],
   "source": []
  }
 ],
 "metadata": {
  "kernelspec": {
   "display_name": "Python 3 (ipykernel)",
   "language": "python",
   "name": "python3"
  },
  "language_info": {
   "codemirror_mode": {
    "name": "ipython",
    "version": 3
   },
   "file_extension": ".py",
   "mimetype": "text/x-python",
   "name": "python",
   "nbconvert_exporter": "python",
   "pygments_lexer": "ipython3",
   "version": "3.11.5"
  }
 },
 "nbformat": 4,
 "nbformat_minor": 5
}
