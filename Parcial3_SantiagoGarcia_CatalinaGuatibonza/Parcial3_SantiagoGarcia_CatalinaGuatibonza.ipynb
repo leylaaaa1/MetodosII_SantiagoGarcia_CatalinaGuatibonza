{
 "cells": [
  {
   "cell_type": "markdown",
   "id": "341bd3f2",
   "metadata": {},
   "source": [
    "### Santiago García - Catalina Guatibonza"
   ]
  },
  {
   "cell_type": "markdown",
   "id": "0e48eb50",
   "metadata": {},
   "source": [
    "# PARCIAL 3 | MÉTODOS COMPUTACIONALES II"
   ]
  },
  {
   "cell_type": "code",
   "execution_count": 1,
   "id": "accf04cc",
   "metadata": {},
   "outputs": [],
   "source": [
    "import numpy as np\n",
    "import matplotlib.pyplot as plt"
   ]
  },
  {
   "cell_type": "markdown",
   "id": "8bf3baa7",
   "metadata": {},
   "source": [
    "## Driven Cavity Flow"
   ]
  },
  {
   "cell_type": "code",
   "execution_count": null,
   "id": "dbbacb4c",
   "metadata": {},
   "outputs": [],
   "source": []
  },
  {
   "cell_type": "code",
   "execution_count": null,
   "id": "826f66f8",
   "metadata": {},
   "outputs": [],
   "source": []
  }
 ],
 "metadata": {
  "kernelspec": {
   "display_name": "Python 3 (ipykernel)",
   "language": "python",
   "name": "python3"
  },
  "language_info": {
   "codemirror_mode": {
    "name": "ipython",
    "version": 3
   },
   "file_extension": ".py",
   "mimetype": "text/x-python",
   "name": "python",
   "nbconvert_exporter": "python",
   "pygments_lexer": "ipython3",
   "version": "3.11.5"
  }
 },
 "nbformat": 4,
 "nbformat_minor": 5
}
